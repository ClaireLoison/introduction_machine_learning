{
  "nbformat": 4,
  "nbformat_minor": 0,
  "metadata": {
    "colab": {
      "name": "logistic_regression_1d.ipynb",
      "provenance": [],
      "include_colab_link": true
    },
    "kernelspec": {
      "display_name": "Python 3",
      "language": "python",
      "name": "python3"
    },
    "language_info": {
      "codemirror_mode": {
        "name": "ipython",
        "version": 3
      },
      "file_extension": ".py",
      "mimetype": "text/x-python",
      "name": "python",
      "nbconvert_exporter": "python",
      "pygments_lexer": "ipython3",
      "version": "3.7.6"
    }
  },
  "cells": [
    {
      "cell_type": "markdown",
      "metadata": {
        "id": "view-in-github",
        "colab_type": "text"
      },
      "source": [
        "<a href=\"https://colab.research.google.com/github/cbernet/introduction_machine_learning/blob/master/notebooks/supervised_learning/logistic_regression_1d_solution.ipynb\" target=\"_parent\"><img src=\"https://colab.research.google.com/assets/colab-badge.svg\" alt=\"Open In Colab\"/></a>"
      ]
    },
    {
      "cell_type": "markdown",
      "metadata": {
        "id": "0QanRxbior1s"
      },
      "source": [
        "## Introduction\n",
        "\n",
        "Some people say that a neural network is just a black box. \n",
        "\n",
        "Today, we're opening the box, to study how a neuron works.\n",
        "\n",
        "To keep it easy, we'll do it for a very, very simple neural network, with a single neuron. \n",
        "\n",
        "Not very clever you might think, but this type of neural networks is actually used very often in machine learning problems, and is called a **logistic regression**. \n",
        "\n",
        "In this post, you will learn: \n",
        "\n",
        "* what's inside a neuron, and in particular what is the **sigmoid activation function**;\n",
        "* that a neural network is nothing more than a function of its inputs;\n",
        "* that neural networks with a single neuron do work, and are equivalent to a logistic regression.\n",
        "\n",
        "We start by import our data manipulation and plotting tools: "
      ]
    },
    {
      "cell_type": "code",
      "metadata": {
        "id": "yOUf8NYcor1t"
      },
      "source": [
        "import numpy as np"
      ],
      "execution_count": 1,
      "outputs": []
    },
    {
      "cell_type": "code",
      "metadata": {
        "id": "rveKA4HGor1x"
      },
      "source": [
        "import matplotlib.pyplot as plt\n",
        "%matplotlib inline"
      ],
      "execution_count": 2,
      "outputs": []
    },
    {
      "cell_type": "markdown",
      "metadata": {
        "id": "ZmlTnVglor10"
      },
      "source": [
        "## Dataset creation\n",
        "\n",
        "Let's create a sample of examples with one variable $x$, in two categories.\n",
        "For each category, the samples will be distributed according to a **Gaussian probability density function (pdf)**, which is also called the **normal** probability density function. Let's plot it :"
      ]
    },
    {
      "cell_type": "code",
      "metadata": {
        "id": "5IyooYmMor10",
        "outputId": "1a15c7dd-a2b8-487a-d200-a673c1b8b8cf",
        "colab": {
          "base_uri": "https://localhost:8080/",
          "height": 296
        }
      },
      "source": [
        "from scipy.stats import norm\n",
        "x = np.linspace(-3,3, 100)\n",
        "# the mean of the Gaussian is set to 0.\n",
        "# (the Gaussian is centred on 0.)\n",
        "# the width of the Gaussian sigma is set to 1.\n",
        "plt.plot(x, norm.pdf(x, 0., 1.))\n",
        "plt.xlabel('x'); plt.ylabel('pdf')"
      ],
      "execution_count": 4,
      "outputs": [
        {
          "output_type": "execute_result",
          "data": {
            "text/plain": [
              "Text(0, 0.5, 'pdf')"
            ]
          },
          "metadata": {
            "tags": []
          },
          "execution_count": 4
        },
        {
          "output_type": "display_data",
          "data": {
            "image/png": "[encoded data removed]",
            "text/plain": [
              "<Figure size 432x288 with 1 Axes>"
            ]
          },
          "metadata": {
            "tags": [],
            "needs_background": "light"
          }
        }
      ]
    },
    {
      "cell_type": "markdown",
      "metadata": {
        "id": "4tFOUXP-or14"
      },
      "source": [
        "In this example, $x$ is a **random variable** distributed according to this Gaussian probability density function. \n",
        "This means that when we draw at random a value for $x$, the area under the curve for a given range in $x$ gives the probability for the value to fall in this range. And it follows that the full area under the function (its integral) between minus infinity and infinity is equal to 1. We can see that the values drawn for $x$ will have a high probability to fall around 0. "
      ]
    },
    {
      "cell_type": "markdown",
      "metadata": {
        "id": "k9LIXKtror14"
      },
      "source": [
        "For category 0, we choose a Gaussian probability density centered on -1.5 with unit standard deviation. For category 1, we center the Gaussian on 1.5 . In each category, we build 100 examples by drawing 100 values:"
      ]
    },
    {
      "cell_type": "code",
      "metadata": {
        "id": "8QWWRz1Dor15"
      },
      "source": [
        "normal = np.random.normal\n",
        "sigma = 1\n",
        "x0 = normal(-1.5, sigma, 100)\n",
        "x1 = normal(1.5, sigma, 100)\n",
        "# labels: \n",
        "y0 = np.zeros_like(x0)\n",
        "y1 = np.ones_like(x1)"
      ],
      "execution_count": 5,
      "outputs": []
    },
    {
      "cell_type": "markdown",
      "metadata": {
        "id": "V6FHXb31or17"
      },
      "source": [
        "These two samples can be visualized as a scatter plot, with the category on the y axis:"
      ]
    },
    {
      "cell_type": "code",
      "metadata": {
        "id": "NjMBsDoyor18",
        "outputId": "f2bb0c15-009f-4885-8cb2-2cc70958b38d",
        "colab": {
          "base_uri": "https://localhost:8080/",
          "height": 296
        }
      },
      "source": [
        "plt.xlim(-5,5)\n",
        "plt.plot(x0, y0,'o')\n",
        "plt.plot(x1, y1,'o')\n",
        "plt.xlabel('x')\n",
        "plt.ylabel('category')"
      ],
      "execution_count": 6,
      "outputs": [
        {
          "output_type": "execute_result",
          "data": {
            "text/plain": [
              "Text(0, 0.5, 'category')"
            ]
          },
          "metadata": {
            "tags": []
          },
          "execution_count": 6
        },
        {
          "output_type": "display_data",
          "data": {
            "image/png": "[encoded data removed]",
            "text/plain": [
              "<Figure size 432x288 with 1 Axes>"
            ]
          },
          "metadata": {
            "tags": [],
            "needs_background": "light"
          }
        }
      ]
    },
    {
      "cell_type": "markdown",
      "metadata": {
        "id": "b_NWw0zxor1-"
      },
      "source": [
        "And we can also show histograms. For each category, the histogram has 50 bins, that count the number of examples with a value falling in the bin:"
      ]
    },
    {
      "cell_type": "code",
      "metadata": {
        "id": "_RY72Tbvor1_",
        "outputId": "3ef8be9e-13e5-4648-bf37-b53c687092e5",
        "colab": {
          "base_uri": "https://localhost:8080/",
          "height": 296
        }
      },
      "source": [
        "# plt.hist(sample1,bins=50, range=(-5,5))\n",
        "plt.clf()\n",
        "plt.xlim(-5,5)\n",
        "plt.hist(x0,bins=50, range=(-5,5), alpha=0.5)\n",
        "plt.hist(x1,bins=50, range=(-5,5), alpha=0.5)\n",
        "plt.xlabel('x')\n",
        "plt.ylabel('counts')"
      ],
      "execution_count": 7,
      "outputs": [
        {
          "output_type": "execute_result",
          "data": {
            "text/plain": [
              "Text(0, 0.5, 'counts')"
            ]
          },
          "metadata": {
            "tags": []
          },
          "execution_count": 7
        },
        {
          "output_type": "display_data",
          "data": {
            "image/png": "[encoded data removed]",
            "text/plain": [
              "<Figure size 432x288 with 1 Axes>"
            ]
          },
          "metadata": {
            "tags": [],
            "needs_background": "light"
          }
        }
      ]
    },
    {
      "cell_type": "markdown",
      "metadata": {
        "id": "aq9OPbHjor2B"
      },
      "source": [
        "The two samples indeed seem to follow the normal distributions we have chosen. With a larger number of samples in each category, each of the two histograms would come closer to their underlying normal distribution.  \n",
        "\n",
        "By eye, we see that examples from the two samples can be classified by setting a separation boundary at $x=0$. Given an unknown sample, if $x>0$ we classify it to category 1, and to category 0 otherwise.\n",
        "\n",
        "We are now going to see how the most simple neural network can find the boundary for us. \n",
        "\n",
        "But first, we must talk about the sigmoid function. "
      ]
    },
    {
      "cell_type": "markdown",
      "metadata": {
        "id": "3snLoQ3eor2C"
      },
      "source": [
        "## The sigmoid function \n",
        "\n",
        "The **sigmoid** or **logistic function** is essential in binary classification problems. In 1D, the sigmoid function is expressed as"
      ]
    },
    {
      "cell_type": "markdown",
      "metadata": {
        "id": "XirviD22or2C"
      },
      "source": [
        "$$\\sigma(z) = \\frac{1}{1+e^{-z}}$$\n",
        "\n",
        "and here is what it looks like, together with our samples. "
      ]
    },
    {
      "cell_type": "code",
      "metadata": {
        "id": "WFy7FJ3lor2D",
        "outputId": "c90030a4-a6b1-4f82-b433-f1c38433b60d",
        "colab": {
          "base_uri": "https://localhost:8080/",
          "height": 296
        }
      },
      "source": [
        "# define parameters\n",
        "b = 0\n",
        "w = 1\n",
        "\n",
        "def sigmoid(x1):\n",
        "    # z is a linear function of x1\n",
        "    z = w*x1 + b\n",
        "    return 1 / (1+np.exp(-z))\n",
        "\n",
        "# create an array of evenly spaced values\n",
        "linx = np.linspace(-5,5,51)\n",
        "plt.plot(x0, np.zeros_like(x0),'o')\n",
        "plt.plot(x1, np.ones_like(x1),'o')\n",
        "plt.plot(linx, sigmoid(linx), color='red')\n",
        "plt.xlabel('z')\n",
        "plt.ylabel(r'$\\sigma(z)$')"
      ],
      "execution_count": 8,
      "outputs": [
        {
          "output_type": "execute_result",
          "data": {
            "text/plain": [
              "Text(0, 0.5, '$\\\\sigma(z)$')"
            ]
          },
          "metadata": {
            "tags": []
          },
          "execution_count": 8
        },
        {
          "output_type": "display_data",
          "data": {
            "image/png": "[encoded data removed]",
            "text/plain": [
              "<Figure size 432x288 with 1 Axes>"
            ]
          },
          "metadata": {
            "tags": [],
            "needs_background": "light"
          }
        }
      ]
    },
    {
      "cell_type": "markdown",
      "metadata": {
        "id": "dGRO7MIYor2F"
      },
      "source": [
        "Let's look at this function in more details:\n",
        "\n",
        "* when $z$ goes to infinity, $e^{-z}$ goes to zero, and $\\sigma (z)$ goes to one.\n",
        "* when $z$ goes to minus infinity, $e^{-z}$ goes to infinity, and $\\sigma (z)$ goes to zero.\n",
        "* $\\sigma(0) = 0.5$, since $e^0=1$.\n",
        "\n",
        "It is important to note that the sigmoid is bound between 0 and 1, like a probability. And actually, in binary classification problems, the probability for an example to belong to a given category is produced by a sigmoid function. To classify our examples, we can simply use the output of the sigmoid: A given unknown example with value $x$ will be classified to category 1 if $\\sigma(z) > 0.5$, and to category 0 otherwise. \n",
        "\n",
        "Now you can go back to the cell above, and play a bit with the `b` and `w` parameters, redoing the plot everytime you change one of these parameters. \n",
        "\n",
        "* $b$ is the **bias**. Changing the bias simply moves the sigmoid along the horizontal axis. For example, if you choose $b=1$ and $w=1$, then $z = wx + b = 0$ at $x=-1$, and that's where the sigmoid will be equal to 0.5\n",
        "* $w$ is the **weight** of variable $x$. If you increase it, the sigmoid evolves faster as a function of $x$ and gets sharper.\n",
        "\n",
        "For the classification to work well with these samples, we see that the bias $b$ has to be set to 0, and that the weight $w$ does not have any importance. That's not the case in general. "
      ]
    },
    {
      "cell_type": "markdown",
      "metadata": {
        "id": "moZCwmCFor2F"
      },
      "source": [
        "## The most simple neural network ever"
      ]
    },
    {
      "cell_type": "markdown",
      "metadata": {
        "id": "DjkB8Remor2G"
      },
      "source": [
        "We will build the most simple neural network to classify our examples:\n",
        "\n",
        "* Each example has one variable, so we need 1 input node on the input layer\n",
        "* We're not going to use any hidden layer, as that would complicate the network \n",
        "* We have two categories, so the output of the network should be a single value between 0 and 1, which is the estimated probability $p$ for an example to belong to category 1. Then, the probability to belong to category 0 is simply $1-p$. Therefore, we should have a single output neuron, the only neuron in the network.\n",
        "\n",
        "It seems that the sigmoid function somehow has to be used in the output neuron. Indeed, it spits out a value between 0 and 1, and can be used as a classification probability as we have seen in the previous section.\n",
        "\n",
        "We can represent our network in the following way:\n",
        "\n",
        "![Neural network with 1 neuron](https://github.com/cbernet/maldives/raw/master/images/one_neuron.png)\n",
        "\n",
        "In the output neuron: \n",
        "\n",
        "* the first box performs a change of variable and computes the **weighted input** $z$ of the neuron\n",
        "* the second box applies the **activation function** to the weighted input. Here, we choose the sigmoid $\\sigma (z) = 1/(1+e^{-z})$ as an activation function\n",
        "\n",
        "This simple network has only 2 tunable parameters, the weight $w$ and the bias $b$, both used in the first box. We see in particular that when the bias is very large, the neuron will always be activated, whatever the input. On the contrary, for very negative biases, the neuron is dead. \n",
        "\n",
        "Actually, we realize that the network is simply a function of $x$, \n",
        "\n",
        "$$f(x) = \\sigma(z) = \\sigma(wx+b)$$\n",
        "\n",
        "Neural networks with no hidden layer and a sigmoid activation function in the neurons of the output layers are in fact used very often in machine learning problems, and this type of algorithm is called a **logistic regression**.\n",
        "\n",
        "In the next sections, we will use the logistic regression from scikit-learn to classify our examples, and then we'll repeat the exercise with the one-neuron neural network.\n",
        "\n",
        "But first, we need to build a single dataset containing the examples of the two categories:"
      ]
    },
    {
      "cell_type": "code",
      "metadata": {
        "id": "2NlaOkH0or2G"
      },
      "source": [
        "# create a 1D array containing \n",
        "# the values of x0 and x1:\n",
        "x = np.concatenate((x0, x1))\n",
        "# turn x into a 2D array with 1 value per line\n",
        "# the first dimension indexes the examples, \n",
        "# and the second dimension contains the value\n",
        "# for each example:\n",
        "x = np.c_[x]\n",
        "# create a 1D array with the targets \n",
        "# y0 and y1\n",
        "y = np.concatenate((y0, y1))"
      ],
      "execution_count": 9,
      "outputs": []
    },
    {
      "cell_type": "markdown",
      "metadata": {
        "id": "rX0hnAJGor2I"
      },
      "source": [
        "## Logistic regression\n",
        "\n",
        "We're going to use the LogisticRegression tool implemented in scikit-learn: "
      ]
    },
    {
      "cell_type": "code",
      "metadata": {
        "id": "kP66FfHxor2J"
      },
      "source": [
        "from sklearn.linear_model import LogisticRegression"
      ],
      "execution_count": 11,
      "outputs": []
    },
    {
      "cell_type": "markdown",
      "metadata": {
        "id": "YEeDBksNor2L"
      },
      "source": [
        "Let's train the logistic regression to the data. \n",
        "\n",
        "The solver is the method used to perform the minimization which finds the best values of the parameters $w$ and $b$. It's similar to Newton's method in case you know it. "
      ]
    },
    {
      "cell_type": "code",
      "metadata": {
        "id": "OCTy0EjSor2L"
      },
      "source": [
        "clf = LogisticRegression(solver='lbfgs').fit(x,y)"
      ],
      "execution_count": 12,
      "outputs": []
    },
    {
      "cell_type": "markdown",
      "metadata": {
        "id": "nTVeMG-Kor2N"
      },
      "source": [
        "Now, we can predict the probability for an example to be in a given category. For $x=4$, we're very far into category 1, and the probability to belong to this category is estimated to be over 99.9%:"
      ]
    },
    {
      "cell_type": "code",
      "metadata": {
        "id": "0tZpKXwFor2O",
        "outputId": "785b25b2-dca3-4a28-e980-d5064ad0378d",
        "colab": {
          "base_uri": "https://localhost:8080/",
          "height": 34
        }
      },
      "source": [
        "clf.predict_proba([[4]])"
      ],
      "execution_count": 13,
      "outputs": [
        {
          "output_type": "execute_result",
          "data": {
            "text/plain": [
              "array([[7.15395123e-05, 9.99928460e-01]])"
            ]
          },
          "metadata": {
            "tags": []
          },
          "execution_count": 13
        }
      ]
    },
    {
      "cell_type": "markdown",
      "metadata": {
        "id": "r1EOw3Zuor2Q"
      },
      "source": [
        "Let's plot the predicted probability as a function of $x$, together with our samples. First, we need to create an array with 100 evenly spaced values of $x$, and convert this array to a 2D array with a single value of x on each line:"
      ]
    },
    {
      "cell_type": "code",
      "metadata": {
        "id": "2prUP3E6or2R"
      },
      "source": [
        "linx = np.c_[np.linspace(-5, 5, 100)]"
      ],
      "execution_count": 14,
      "outputs": []
    },
    {
      "cell_type": "markdown",
      "metadata": {
        "id": "mC0QibfZor2S"
      },
      "source": [
        "The probabilities for all values of $x$ are"
      ]
    },
    {
      "cell_type": "code",
      "metadata": {
        "id": "cwiXr9Rdor2T"
      },
      "source": [
        "# predict_proba takes an array of examples, \n",
        "# so a 2D array\n",
        "prob = clf.predict_proba(linx)\n",
        "# extract the second probability \n",
        "# (to be in category 1) for each example.\n",
        "# we get a 2D array and \n",
        "# reshape it to a 1D array of size 100\n",
        "prob = prob[:,1].reshape(len(linx))"
      ],
      "execution_count": 15,
      "outputs": []
    },
    {
      "cell_type": "markdown",
      "metadata": {
        "id": "Yz8PAQxAor2U"
      },
      "source": [
        "**Exercise**\n",
        "\n",
        "Repeat the cell above, inserting code to: \n",
        "\n",
        "* print the first 5 elements of the `prob` array after `predict_proba`. Do you understand what is in this array ?\n",
        "* print the first 5 elements of `prob[:,1]`. What is this operation doing? \n",
        "* Can you describe the contents of prob after this cell ? \n"
      ]
    },
    {
      "cell_type": "code",
      "metadata": {
        "id": "e2kI3ZKTtB2I",
        "outputId": "6c95ba5c-3210-4841-9bf7-8be16c553292",
        "colab": {
          "base_uri": "https://localhost:8080/",
          "height": 136
        }
      },
      "source": [
        "# Solution\n",
        "prob = clf.predict_proba(linx)\n",
        "print(prob[:5])\n",
        "prob = prob[:,1]\n",
        "print(prob[:5])"
      ],
      "execution_count": 27,
      "outputs": [
        {
          "output_type": "stream",
          "text": [
            "[[9.99989512e-01 1.04877654e-05]\n",
            " [9.99986723e-01 1.32767508e-05]\n",
            " [9.99983193e-01 1.68073917e-05]\n",
            " [9.99978723e-01 2.12769038e-05]\n",
            " [9.99973065e-01 2.69349406e-05]]\n",
            "[1.04877654e-05 1.32767508e-05 1.68073917e-05 2.12769038e-05\n",
            " 2.69349406e-05]\n"
          ],
          "name": "stdout"
        }
      ]
    },
    {
      "cell_type": "markdown",
      "metadata": {
        "id": "5-QHioFGor2V"
      },
      "source": [
        "Finally, we can plot the probability vs x:"
      ]
    },
    {
      "cell_type": "code",
      "metadata": {
        "id": "lUkr-x5gor2V",
        "outputId": "31987e42-b9ca-4de6-c689-82d9e67a4444",
        "colab": {
          "base_uri": "https://localhost:8080/",
          "height": 296
        }
      },
      "source": [
        "# both linx and prob must be 1D\n",
        "plt.plot(linx, prob, color='red')\n",
        "plt.scatter(x0, y0)\n",
        "plt.scatter(x1, y1)\n",
        "plt.xlabel('x')\n",
        "plt.ylabel('category probability')"
      ],
      "execution_count": 28,
      "outputs": [
        {
          "output_type": "execute_result",
          "data": {
            "text/plain": [
              "Text(0, 0.5, 'category probability')"
            ]
          },
          "metadata": {
            "tags": []
          },
          "execution_count": 28
        },
        {
          "output_type": "display_data",
          "data": {
            "image/png": "[encoded data removed]",
            "text/plain": [
              "<Figure size 432x288 with 1 Axes>"
            ]
          },
          "metadata": {
            "tags": [],
            "needs_background": "light"
          }
        }
      ]
    },
    {
      "cell_type": "markdown",
      "metadata": {
        "id": "jQHal6rior2X"
      },
      "source": [
        "We see that the output of the regression is indeed a sigmoid. \n",
        "The bias is close to 0, and it seems that the classification will work well. "
      ]
    },
    {
      "cell_type": "markdown",
      "metadata": {
        "id": "FLMqcqqJor2X"
      },
      "source": [
        "## One-neuron neural network\n",
        "\n",
        "We're now going to redo the same exercise with the neural network classifier of scikit-learn. We use:\n",
        "\n",
        "* no hidden layer\n",
        "* a sigmoid (also called logistic) activation\n",
        "\n",
        "scikit-learn will find out that we have a single input variable per example, and that we want to do **binary classification** (to classify in two categories). Therefore, it will create the neural network automatically with one node in the input layer and one neuron in the output layer. "
      ]
    },
    {
      "cell_type": "code",
      "metadata": {
        "id": "l3swQmXzor2Y",
        "outputId": "914858c1-b1ed-469b-9e1b-9021f7e5808c",
        "colab": {
          "base_uri": "https://localhost:8080/",
          "height": 153
        }
      },
      "source": [
        "from sklearn.neural_network import MLPClassifier\n",
        "\n",
        "mlp = MLPClassifier(hidden_layer_sizes=(), \n",
        "                    solver='lbfgs')\n",
        "\n",
        "mlp.fit(x,y)"
      ],
      "execution_count": 29,
      "outputs": [
        {
          "output_type": "execute_result",
          "data": {
            "text/plain": [
              "MLPClassifier(activation='relu', alpha=0.0001, batch_size='auto', beta_1=0.9,\n",
              "              beta_2=0.999, early_stopping=False, epsilon=1e-08,\n",
              "              hidden_layer_sizes=(), learning_rate='constant',\n",
              "              learning_rate_init=0.001, max_fun=15000, max_iter=200,\n",
              "              momentum=0.9, n_iter_no_change=10, nesterovs_momentum=True,\n",
              "              power_t=0.5, random_state=None, shuffle=True, solver='lbfgs',\n",
              "              tol=0.0001, validation_fraction=0.1, verbose=False,\n",
              "              warm_start=False)"
            ]
          },
          "metadata": {
            "tags": []
          },
          "execution_count": 29
        }
      ]
    },
    {
      "cell_type": "markdown",
      "metadata": {
        "id": "y43g6p4ivYRO"
      },
      "source": [
        "**Exercise**\n",
        "\n",
        "* predict the probability for belonging to class 1, as a function of x\n",
        "* in a single plot, display: \n",
        "  * the full dataset\n",
        "  * the prediction from the logistic regression model \n",
        "  * the prediction from the neural network model\n",
        "  * and please properly label your axes and add a legend "
      ]
    },
    {
      "cell_type": "code",
      "metadata": {
        "id": "y7VeEIibor2a",
        "outputId": "e886acff-c668-4f25-885a-57b69d5cbc54",
        "colab": {
          "base_uri": "https://localhost:8080/",
          "height": 296
        }
      },
      "source": [
        "prob_mlp = mlp.predict_proba(linx)\n",
        "# take the second probability \n",
        "# (to be in category 1) for each example\n",
        "# and reshape it to a 1D array of size 100\n",
        "prob_mlp = prob_mlp[:,1].reshape(len(linx))\n",
        "plt.plot(linx, prob, color='red', label='regression')\n",
        "plt.plot(linx, prob_mlp, color='blue', label='MLP')\n",
        "plt.scatter(x0, y0)\n",
        "plt.scatter(x1, y1)\n",
        "plt.legend()\n",
        "plt.xlabel('x')\n",
        "plt.ylabel('category probability')"
      ],
      "execution_count": 31,
      "outputs": [
        {
          "output_type": "execute_result",
          "data": {
            "text/plain": [
              "Text(0, 0.5, 'category probability')"
            ]
          },
          "metadata": {
            "tags": []
          },
          "execution_count": 31
        },
        {
          "output_type": "display_data",
          "data": {
            "image/png": "[encoded data removed]",
            "text/plain": [
              "<Figure size 432x288 with 1 Axes>"
            ]
          },
          "metadata": {
            "tags": [],
            "needs_background": "light"
          }
        }
      ]
    },
    {
      "cell_type": "markdown",
      "metadata": {
        "id": "Upn4UNeKor2d"
      },
      "source": [
        "As expected, the results are very similar. The differences are certainly due to some of the operations performed under the hood by the MLPClassifier. \n",
        "\n",
        "Honestly I don't know what's going on in there and I don't want to dig inside.\n",
        "Indeed, the [MLPClassifier](https://scikit-learn.org/stable/modules/generated/sklearn.neural_network.MLPClassifier.html) is too opaque to my taste, and we will mostly use [keras](https://thedatafrog.com/neural-network-keras/) to work with neural networks anyway. "
      ]
    },
    {
      "cell_type": "markdown",
      "metadata": {
        "id": "rK8jqbtfor2d"
      },
      "source": [
        "## What's next? \n",
        "\n",
        "In this post you have learnt: \n",
        "\n",
        "* what's inside a neuron, and in particular what is the sigmoid activation function;\n",
        "* that the sigmoid activation is a natural choice for the neurons in the last layer of neural network dedicated to binary classification;\n",
        "* that a neural network is nothing more than a function of its inputs;\n",
        "* that neural networks with a single neuron do work, and are equivalent to a logistic regression.\n",
        "\n",
        "Next time, we'll do the same exercise in 2D. We'll talk about the linearity of classification problems, and of the need to introduce non-linearities with hidden layers in some cases. "
      ]
    }
  ]
}