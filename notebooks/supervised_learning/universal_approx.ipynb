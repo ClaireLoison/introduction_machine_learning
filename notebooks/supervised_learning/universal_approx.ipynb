{
 "cells": [
  {
   "cell_type": "markdown",
   "metadata": {},
   "source": [
    "# An illustration of the Universal Approximation Theorem\n",
    "\n",
    "[Run this notebook](https://colab.research.google.com/github/cbernet/introduction_machine_learning/blob/master/notebooks/supervised_learning/universal_approx.ipynb) on Google Colab, with a CPU environment."
   ]
  },
  {
   "cell_type": "markdown",
   "metadata": {},
   "source": [
    "## Import numpy and matplotlib\n",
    "\n",
    "As usual, import numpy as np, and pyplot as plt:"
   ]
  },
  {
   "cell_type": "code",
   "execution_count": null,
   "metadata": {},
   "outputs": [],
   "source": []
  },
  {
   "cell_type": "markdown",
   "metadata": {},
   "source": [
    "## Create the sine function\n",
    "\n",
    "Use numpy to: \n",
    "\n",
    "* create the x sample: a linspace with 10 000 points between -5 and 5\n",
    "* create the y targets\n",
    "\n",
    "Look at the shape of these arrays and print them."
   ]
  },
  {
   "cell_type": "code",
   "execution_count": null,
   "metadata": {},
   "outputs": [],
   "source": []
  },
  {
   "cell_type": "markdown",
   "metadata": {},
   "source": [
    "Now, plot sin(x) with matplotlib:"
   ]
  },
  {
   "cell_type": "code",
   "execution_count": null,
   "metadata": {},
   "outputs": [],
   "source": []
  },
  {
   "cell_type": "markdown",
   "metadata": {},
   "source": [
    "## Set up the neural network regression\n",
    "\n",
    "For the regression, we're going to use the [MLPRegressor](https://scikit-learn.org/stable/modules/generated/sklearn.neural_network.MLPRegressor.html#sklearn.neural_network.MLPRegressor) of scikit-learn.\n",
    "\n",
    "We're going to start by building a very simple network with one hidden layer with 4 neurons, and ReLU activation.\n",
    "\n",
    "Study the documentation and create an instance of the MLPRegressor: "
   ]
  },
  {
   "cell_type": "code",
   "execution_count": null,
   "metadata": {},
   "outputs": [],
   "source": []
  },
  {
   "cell_type": "markdown",
   "metadata": {},
   "source": [
    "Train the regressor to predict sin(x): "
   ]
  },
  {
   "cell_type": "code",
   "execution_count": null,
   "metadata": {},
   "outputs": [],
   "source": []
  },
  {
   "cell_type": "markdown",
   "metadata": {},
   "source": [
    "Plot an overlay of the prediction and the target function: "
   ]
  },
  {
   "cell_type": "code",
   "execution_count": null,
   "metadata": {},
   "outputs": [],
   "source": []
  },
  {
   "cell_type": "markdown",
   "metadata": {},
   "source": [
    "Now, answer the following question: \n",
    "\n",
    "* we didn't have to declare any output layer, but there must be one to combine the outputs of the neurons on the hidden layer into a prediction for sin(x). \n",
    "  * How many neurons are there on the output layer? \n",
    "  * What is their activation function? do you understand this choice? \n",
    "* what is the loss function minimized in the training ? Do you understand this choice ? \n",
    "\n",
    "The prediction is not very good, let's see why: \n",
    "\n",
    "* Draw a diagram of your neural network on a piece of paper, and express the network output as a function of x\n",
    "* Do you understand the shape of the prediction? \n",
    "* What is needed to improve the model? \n",
    "\n",
    "Just try: "
   ]
  },
  {
   "cell_type": "code",
   "execution_count": 16,
   "metadata": {},
   "outputs": [],
   "source": []
  },
  {
   "cell_type": "markdown",
   "metadata": {},
   "source": [
    "And plot the prediction with the target function again: "
   ]
  },
  {
   "cell_type": "code",
   "execution_count": 26,
   "metadata": {},
   "outputs": [],
   "source": []
  },
  {
   "cell_type": "markdown",
   "metadata": {},
   "source": [
    "Improve your model until you're satisfied."
   ]
  }
 ],
 "metadata": {
  "kernelspec": {
   "display_name": "Python 3",
   "language": "python",
   "name": "python3"
  },
  "language_info": {
   "codemirror_mode": {
    "name": "ipython",
    "version": 3
   },
   "file_extension": ".py",
   "mimetype": "text/x-python",
   "name": "python",
   "nbconvert_exporter": "python",
   "pygments_lexer": "ipython3",
   "version": "3.7.6"
  }
 },
 "nbformat": 4,
 "nbformat_minor": 4
}
