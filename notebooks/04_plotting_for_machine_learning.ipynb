{
 "cells": [
  {
   "cell_type": "markdown",
   "metadata": {},
   "source": [
    "## Introduction\n",
    "\n",
    "Python features a large number of visualization libraries.\n",
    "\n",
    "The most recent ones, like bokeh and holoviews, are very powerful. They allow us to easily create interactive plots that can be displayed in a network browser. And the datashader extension makes it possible to display big data without killing the client browser. \n",
    "\n",
    "Matplotlib, on the other hand, has been around for quite a while and might seem a bit limited with respect to more recent libraries. But most people are still using it (if only at times) and it excels at producing plots of publication quality for articles. \n",
    "\n",
    "Clearly, you need to know matplotlib if you are to use scientific python at all, in particular for machine learning. So this tutorial will focus on this tool. \n",
    "\n",
    "To illustrate the basic functionalities of matplotlib, we will work on a toy machine learning problem, and make plots that are actually useful in real life. \n",
    "\n",
    "The toy problem will be the classification of examples with a single input variable x in two categories, 0 and 1, depending on the value of x. \n",
    "\n",
    "For each category, the samples will follow the [normal distribution](https://en.wikipedia.org/wiki/Normal_distribution). This means that they will be distributed according to a **Gaussian probability density function (pdf)**.\n",
    "\n",
    "Here is the outline: \n",
    "\n",
    "* The normal distribution / plotting a function\n",
    "* Cosmetics: title, legend, log scale\n",
    "* Machine learning dataset: scatter plot and histograms\n",
    "* Model performance"
   ]
  },
  {
   "cell_type": "markdown",
   "metadata": {},
   "source": [
    "## The Normal Distribution / Plotting a Function"
   ]
  },
  {
   "cell_type": "markdown",
   "metadata": {},
   "source": [
    "The normal distribution is available in [scipy.stats](https://docs.scipy.org/doc/scipy/reference/tutorial/stats.html) (we could also use the lower-level [numpy.random.normal](https://docs.scipy.org/doc/numpy-1.15.0/reference/generated/numpy.random.normal.html)) :"
   ]
  },
  {
   "cell_type": "code",
   "execution_count": 61,
   "metadata": {},
   "outputs": [],
   "source": [
    "from scipy.stats import norm"
   ]
  },
  {
   "cell_type": "markdown",
   "metadata": {},
   "source": [
    "Like most scientific python tools, [norm](https://docs.scipy.org/doc/scipy/reference/generated/scipy.stats.norm.html) is designed to work with numpy arrays. \n",
    "\n",
    "The first thing we want to do is to plot the pdf of the normal distribution with matplotlib. \n",
    "\n",
    "To plot a function f(x), we need to define a number of x values for which the function will be evaluated. With numpy, it is easy to create a numpy array with evenly spaced values in a given range: \n",
    "\n"
   ]
  },
  {
   "cell_type": "code",
   "execution_count": 62,
   "metadata": {},
   "outputs": [
    {
     "data": {
      "text/plain": [
       "array([-5. , -4.9, -4.8, ...,  4.8,  4.9,  5. ])"
      ]
     },
     "execution_count": 62,
     "metadata": {},
     "output_type": "execute_result"
    }
   ],
   "source": [
    "import numpy as np\n",
    "np.set_printoptions(suppress=True, threshold=20)\n",
    "x = np.linspace(-5,5,101)\n",
    "x"
   ]
  },
  {
   "cell_type": "markdown",
   "metadata": {},
   "source": [
    "We use 101 values instead of 100 so that the values precisely land where we want them to be (there must be a value at zero). "
   ]
  },
  {
   "cell_type": "markdown",
   "metadata": {},
   "source": [
    "Then, we evaluate the function for all x values in one go, again thanks to numpy:"
   ]
  },
  {
   "cell_type": "code",
   "execution_count": 63,
   "metadata": {},
   "outputs": [
    {
     "data": {
      "text/plain": [
       "array([0.00000149, 0.00000244, 0.00000396, ..., 0.00000396, 0.00000244,\n",
       "       0.00000149])"
      ]
     },
     "execution_count": 63,
     "metadata": {},
     "output_type": "execute_result"
    }
   ],
   "source": [
    "# we choose mean=0, sigma=1\n",
    "# for our gaussian pdf\n",
    "y = norm.pdf(x, 0., 1.)\n",
    "y"
   ]
  },
  {
   "cell_type": "markdown",
   "metadata": {},
   "source": [
    "Finally we can plot y vs x: "
   ]
  },
  {
   "cell_type": "code",
   "execution_count": 64,
   "metadata": {},
   "outputs": [
    {
     "data": {
      "text/plain": [
       "[<matplotlib.lines.Line2D at 0x1a2692b910>]"
      ]
     },
     "execution_count": 64,
     "metadata": {},
     "output_type": "execute_result"
    },
    {
     "data": {
      "image/png": "[encoded data removed]",
      "text/plain": [
       "<Figure size 432x288 with 1 Axes>"
      ]
     },
     "metadata": {
      "needs_background": "light"
     },
     "output_type": "display_data"
    }
   ],
   "source": [
    "import matplotlib.pyplot as plt\n",
    "plt.plot(x, y)"
   ]
  },
  {
   "cell_type": "markdown",
   "metadata": {},
   "source": [
    "Matplotlib automatically linked the data in the y and x arrays (which must have the same length), plotted the 101 points, and connected the points with straight lines. This is not visible in the picture given the fairly large number of points. "
   ]
  },
  {
   "cell_type": "markdown",
   "metadata": {},
   "source": [
    "We did it step-by-step this time, but often, we define y (and sometimes x as well) on the fly: "
   ]
  },
  {
   "cell_type": "code",
   "execution_count": 65,
   "metadata": {},
   "outputs": [
    {
     "data": {
      "text/plain": [
       "[<matplotlib.lines.Line2D at 0x1a25d65f90>]"
      ]
     },
     "execution_count": 65,
     "metadata": {},
     "output_type": "execute_result"
    },
    {
     "data": {
      "image/png": "[encoded data removed]",
      "text/plain": [
       "<Figure size 432x288 with 1 Axes>"
      ]
     },
     "metadata": {
      "needs_background": "light"
     },
     "output_type": "display_data"
    }
   ],
   "source": [
    "plt.plot(x, norm.pdf(x, 0, 1))\n",
    "plt.plot(x, norm.pdf(x, 2, 0.5))"
   ]
  },
  {
   "cell_type": "markdown",
   "metadata": {},
   "source": [
    "Note that matplotlib is clever enough to change the color automatically for the different plots, and to adapt the range of the y axis so that the whole information is visible. \n",
    "\n",
    "If you're a particle physicist, you know ROOT. I'm not going comment further ;-) "
   ]
  },
  {
   "cell_type": "markdown",
   "metadata": {},
   "source": [
    "## Cosmetics: Titles, Legend, Log Scale"
   ]
  },
  {
   "cell_type": "markdown",
   "metadata": {},
   "source": [
    "Scientific plots must be crystal clear, so we need to name our axes, and to add a legend. We can also give a title to the plot. Finally, it's often better to use a log scale on the y axis. Let's do all that: "
   ]
  },
  {
   "cell_type": "code",
   "execution_count": 66,
   "metadata": {},
   "outputs": [
    {
     "data": {
      "text/plain": [
       "<matplotlib.legend.Legend at 0x1a268eafd0>"
      ]
     },
     "execution_count": 66,
     "metadata": {},
     "output_type": "execute_result"
    },
    {
     "data": {
      "image/png": "[encoded data removed]",
      "text/plain": [
       "<Figure size 432x288 with 1 Axes>"
      ]
     },
     "metadata": {
      "needs_background": "light"
     },
     "output_type": "display_data"
    }
   ],
   "source": [
    "plot = plt.plot(x, norm.pdf(x, 0, 1), label='wide')\n",
    "plt.plot(x, norm.pdf(x, 2, 0.5), label='narrow')\n",
    "plt.title('Two Gaussian PDFs')\n",
    "plt.ylabel('p.d.f.')\n",
    "plt.xlabel('x')\n",
    "plt.yscale('log')\n",
    "# limiting the y axis, or the y axis \n",
    "# would go down to 10^(- a lot) and \n",
    "# the lines would be compressed at the top \n",
    "# of the plot\n",
    "plt.ylim(0.02, 1)\n",
    "plt.legend()"
   ]
  },
  {
   "cell_type": "markdown",
   "metadata": {},
   "source": [
    "## Machine Learning Dataset / Scatter Plot and Histograms"
   ]
  },
  {
   "cell_type": "markdown",
   "metadata": {},
   "source": [
    "Now that we know what's a normal distribution, we can use it to draw a sample of random values to create a toy dataset. \n",
    "\n",
    "Our goal is to construct a numpy array with shape (N, 1) for the whole input data, which is a columnar array with a single value for each example, drawn from a gaussian pdf. The examples will come from two categories denoted 0 and 1, corresponding to two different gaussian pdfs. \n",
    "\n",
    "We also need an array of shape (N,) for the targets, which identify the true category of each example. \n",
    "\n",
    "We use numpy to draw 100 values from each gaussian pdf: "
   ]
  },
  {
   "cell_type": "code",
   "execution_count": 67,
   "metadata": {},
   "outputs": [
    {
     "data": {
      "text/plain": [
       "(100,)"
      ]
     },
     "execution_count": 67,
     "metadata": {},
     "output_type": "execute_result"
    }
   ],
   "source": [
    "sigma = 1.\n",
    "x0 = np.random.normal(-1.5, sigma, 100)\n",
    "x1 = np.random.normal(1.5, sigma, 100)\n",
    "x0.shape"
   ]
  },
  {
   "cell_type": "markdown",
   "metadata": {},
   "source": [
    "For now, these arrays don't have the right shape. We have 1D arrays of shape (100,), and we need columnar arrays of shape (100,1). Also, we will need to mix these arrays together to get a complete input data array of shape (200,1). \n",
    "\n",
    "Before we do this, we create the target arrays for the two categories: "
   ]
  },
  {
   "cell_type": "code",
   "execution_count": 68,
   "metadata": {},
   "outputs": [],
   "source": [
    "y0 = np.zeros_like(x0)\n",
    "y1 = np.ones_like(x1)"
   ]
  },
  {
   "cell_type": "markdown",
   "metadata": {},
   "source": [
    "The two samples can be visualized as a scatter plot, with the category on the y axis: "
   ]
  },
  {
   "cell_type": "code",
   "execution_count": 69,
   "metadata": {},
   "outputs": [
    {
     "data": {
      "text/plain": [
       "Text(0, 0.5, 'category')"
      ]
     },
     "execution_count": 69,
     "metadata": {},
     "output_type": "execute_result"
    },
    {
     "data": {
      "image/png": "[encoded data removed]",
      "text/plain": [
       "<Figure size 432x288 with 1 Axes>"
      ]
     },
     "metadata": {
      "needs_background": "light"
     },
     "output_type": "display_data"
    }
   ],
   "source": [
    "plt.plot(x0, y0,'o')\n",
    "plt.plot(x1, y1,'o')\n",
    "plt.xlabel('x')\n",
    "plt.ylabel('category')"
   ]
  },
  {
   "cell_type": "markdown",
   "metadata": {},
   "source": [
    "And we can also show histograms. For each category, the histogram has 50 bins, that count the number of examples with a value falling in the bin:"
   ]
  },
  {
   "cell_type": "code",
   "execution_count": 100,
   "metadata": {},
   "outputs": [
    {
     "data": {
      "text/plain": [
       "Text(0, 0.5, 'counts')"
      ]
     },
     "execution_count": 100,
     "metadata": {},
     "output_type": "execute_result"
    },
    {
     "data": {
      "image/png": "[encoded data removed]",
      "text/plain": [
       "<Figure size 432x288 with 1 Axes>"
      ]
     },
     "metadata": {
      "needs_background": "light"
     },
     "output_type": "display_data"
    }
   ],
   "source": [
    "# alpha is the transparency\n",
    "plt.hist(x0,bins=50, range=(-5,5), alpha=0.5)\n",
    "plt.hist(x1,bins=50, range=(-5,5), alpha=0.5)\n",
    "plt.xlabel('x')\n",
    "plt.ylabel('counts')"
   ]
  },
  {
   "cell_type": "markdown",
   "metadata": {},
   "source": [
    "Finally, we merge the two samples (both the input data and the targets). For this, we use the handy [np.r_](https://docs.scipy.org/doc/numpy/reference/generated/numpy.r_.html#numpy.r_) : "
   ]
  },
  {
   "cell_type": "code",
   "execution_count": 71,
   "metadata": {},
   "outputs": [
    {
     "name": "stdout",
     "output_type": "stream",
     "text": [
      "[[-2.89723709]\n",
      " [-1.07417957]\n",
      " [-1.34156289]\n",
      " ...\n",
      " [-0.99229424]\n",
      " [ 3.32672654]\n",
      " [ 0.94882976]]\n",
      "[0. 0. 0. ... 1. 1. 1.]\n"
     ]
    }
   ],
   "source": [
    "x = np.c_['0,2,0', x0, x1]\n",
    "y = np.concatenate([y0, y1])\n",
    "print(x)\n",
    "print(y)"
   ]
  },
  {
   "cell_type": "markdown",
   "metadata": {},
   "source": [
    "## Model performance\n",
    "\n",
    "In this tutorial, our focus is on plotting, not on machine learning. So we're just going to train a model fast, without trying to understand what we're doing. We'll come back to machine learning in a future tutorial, of course. \n",
    "\n",
    "To classify our examples, we will use a \"logistic regression\", as implemented in scikit-learn."
   ]
  },
  {
   "cell_type": "code",
   "execution_count": 72,
   "metadata": {},
   "outputs": [],
   "source": [
    "from sklearn.linear_model import LogisticRegression\n",
    "clf = LogisticRegression(solver='lbfgs').fit(x,y)"
   ]
  },
  {
   "cell_type": "markdown",
   "metadata": {},
   "source": [
    "That's it! our model has been trained already. We can now evaluate the model for a given x value: "
   ]
  },
  {
   "cell_type": "code",
   "execution_count": 73,
   "metadata": {},
   "outputs": [
    {
     "data": {
      "text/plain": [
       "array([[0.99878931, 0.00121069],\n",
       "       [0.00049815, 0.99950185]])"
      ]
     },
     "execution_count": 73,
     "metadata": {},
     "output_type": "execute_result"
    }
   ],
   "source": [
    "clf.predict_proba([[-3], [3]])"
   ]
  },
  {
   "cell_type": "markdown",
   "metadata": {},
   "source": [
    "The trained model gives a probability of 99.97% to category 0 if x=-3, and roughly the same probability to category 1 if x=3. It seems to work! \n",
    "\n",
    "Now, we want to plot the probability for the whole x range, overlayed to the scatter plot of the examples. We know how to do the scatter plot already, so let's focus on plotting the probability. \n",
    "\n",
    "The model can be seen as a function of x. So we need to define a linspace for x, and to calculate the corresponding probabilities: "
   ]
  },
  {
   "cell_type": "code",
   "execution_count": 79,
   "metadata": {},
   "outputs": [
    {
     "data": {
      "text/plain": [
       "array([[0.99998975, 0.00001025],\n",
       "       [0.99998699, 0.00001301],\n",
       "       [0.99998348, 0.00001652],\n",
       "       ...,\n",
       "       [0.00000679, 0.99999321],\n",
       "       [0.00000535, 0.99999465],\n",
       "       [0.00000421, 0.99999579]])"
      ]
     },
     "execution_count": 79,
     "metadata": {},
     "output_type": "execute_result"
    }
   ],
   "source": [
    "xs = np.linspace(-5, 5, 101)\n",
    "# xs is a 1D vector, and predict_proba \n",
    "# takes a columnar array\n",
    "# as we have seen. So we turn it to a \n",
    "# columnar array: \n",
    "cxs = np.c_[xs]\n",
    "probs = clf.predict_proba(cxs)\n",
    "probs"
   ]
  },
  {
   "cell_type": "markdown",
   "metadata": {},
   "source": [
    "Finally we can do our plot: "
   ]
  },
  {
   "cell_type": "code",
   "execution_count": 88,
   "metadata": {},
   "outputs": [
    {
     "data": {
      "text/plain": [
       "Text(0, 0.5, 'probability')"
      ]
     },
     "execution_count": 88,
     "metadata": {},
     "output_type": "execute_result"
    },
    {
     "data": {
      "image/png": "[encoded data removed]",
      "text/plain": [
       "<Figure size 432x288 with 1 Axes>"
      ]
     },
     "metadata": {
      "needs_background": "light"
     },
     "output_type": "display_data"
    }
   ],
   "source": [
    "plt.plot(x0, y0,'o')\n",
    "plt.plot(x1, y1,'o')\n",
    "# we select the probability for category 1\n",
    "plt.plot(xs, probs[:, 1], color='blue')\n",
    "plt.xlabel('x')\n",
    "plt.ylabel('probability')"
   ]
  },
  {
   "cell_type": "markdown",
   "metadata": {},
   "source": [
    "--- \n",
    "\n",
    "*Exercise*\n",
    "\n",
    "For each category, plot the histogram of predicted probability for category 1. You should get a peak at 0 for category 0, and a peak at 1 for category 1. \n",
    "\n",
    "Hints: use a numpy boolean mask built with the y array to select entries of a given category in x. \n",
    "\n",
    "---"
   ]
  }
 ],
 "metadata": {
  "kernelspec": {
   "display_name": "Python 3",
   "language": "python",
   "name": "python3"
  },
  "language_info": {
   "codemirror_mode": {
    "name": "ipython",
    "version": 3
   },
   "file_extension": ".py",
   "mimetype": "text/x-python",
   "name": "python",
   "nbconvert_exporter": "python",
   "pygments_lexer": "ipython3",
   "version": "3.7.6"
  }
 },
 "nbformat": 4,
 "nbformat_minor": 4
}
