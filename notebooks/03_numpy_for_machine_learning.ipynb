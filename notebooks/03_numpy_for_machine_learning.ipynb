{
 "cells": [
  {
   "cell_type": "markdown",
   "metadata": {},
   "source": [
    "Die-hard C++ or Fortran users among physicists often say that python is too slow. \n",
    "\n",
    "True, python is an interpreted language and it is slow.\n",
    "\n",
    "Even python advocates like me realize it, but we think that the (lack of) speed of python is not really an issue, e.g. because:\n",
    "\n",
    "* The time spent computing is balanced by a much smaller development time;\n",
    "* Profiling is easy, which means that one can find the parts of the code that are slow, optimize them, and even write them in faster languages so that they can be compiled and used from python;\n",
    "\n",
    "And most importantly: \n",
    "\n",
    "* Some python tools like numpy are as fast as plain C. \n",
    "\n",
    "In this tutorial, you will understand what is numpy and why it's fast, and learn just what's needed about numpy for the usual machine learning operations. \n",
    "\n"
   ]
  },
  {
   "cell_type": "markdown",
   "metadata": {},
   "source": [
    "## Installation\n",
    "\n",
    "Numpy is the core of scientific python, so it's installed as a dependency for most of the scientific python packages. For example, you will get it if you install scikit-learn, matplotlib, or Keras. Also, numpy is installed by default on the usual platforms as a service for jupyter notebooks, such as Google Colab or FloydHub. \n",
    "\n",
    "If you don't have it, you can install it with [Anaconda](https://thedatafrog.com/en/install-anaconda-data-science-python/), by doing: \n",
    "\n",
    "```\n",
    "conda install numpy\n",
    "```\n",
    "\n",
    "Then, traditionally, numpy is imported in the following way:"
   ]
  },
  {
   "cell_type": "code",
   "execution_count": 1,
   "metadata": {},
   "outputs": [],
   "source": [
    "import numpy as np"
   ]
  },
  {
   "cell_type": "markdown",
   "metadata": {},
   "source": [
    "## The numpy array : Why is it fast? \n",
    "\n",
    "The main purpose of numpy is to provide a very efficient data structure called the numpy array, and the tools to manipulate such arrays. \n",
    "\n",
    "Why is the numpy array so fast? \n",
    "\n",
    "Because, under the hood, arrays are processed with compiled code, optimized for the CPU. In particular, numpy operations are parallel as they use [SIMD](https://en.wikipedia.org/wiki/SIMD) (Single Operation Multiple Data). \n",
    "\n",
    "To see how fast numpy is, we can time it. \n",
    "\n",
    "Let us create a large list with one million integers, and a numpy array from this list: "
   ]
  },
  {
   "cell_type": "code",
   "execution_count": 3,
   "metadata": {},
   "outputs": [],
   "source": [
    "lst = range(1000000)\n",
    "arr = np.array(lst)"
   ]
  },
  {
   "cell_type": "markdown",
   "metadata": {},
   "source": [
    "Now let's compute the square of all integers, and see how much time it takes. "
   ]
  },
  {
   "cell_type": "markdown",
   "metadata": {},
   "source": [
    "We start by the list: "
   ]
  },
  {
   "cell_type": "code",
   "execution_count": 15,
   "metadata": {},
   "outputs": [
    {
     "name": "stdout",
     "output_type": "stream",
     "text": [
      "116 ms ± 2.79 ms per loop (mean ± std. dev. of 7 runs, 10 loops each)\n"
     ]
    }
   ],
   "source": [
    "%timeit squares = [math.sqrt(x) for x in lst]"
   ]
  },
  {
   "cell_type": "markdown",
   "metadata": {},
   "source": [
    "And we do the same for the array:"
   ]
  },
  {
   "cell_type": "markdown",
   "metadata": {},
   "source": [
    "%timeit squares = arr**2"
   ]
  },
  {
   "cell_type": "markdown",
   "metadata": {},
   "source": [
    "As you can see, this is more than 300 times faster. \n",
    "\n",
    "We can in principle loop on the numpy array like this:"
   ]
  },
  {
   "cell_type": "code",
   "execution_count": 14,
   "metadata": {},
   "outputs": [
    {
     "name": "stdout",
     "output_type": "stream",
     "text": [
      "236 ms ± 4.59 ms per loop (mean ± std. dev. of 7 runs, 1 loop each)\n"
     ]
    }
   ],
   "source": [
    "%timeit squares = [x**2 for x in arr]"
   ]
  },
  {
   "cell_type": "markdown",
   "metadata": {},
   "source": [
    "But then, we completely lose the benefits of numpy! Indeed, when we do `arr**2` we use the square function of numpy, which is intrinsically parallel. When we loop, we process the elements one by one with basic python. So: \n",
    "\n",
    "**Never ever loop on a numpy array, no exceptions!**"
   ]
  },
  {
   "cell_type": "markdown",
   "metadata": {},
   "source": [
    "## Numpy array data types\n",
    "\n",
    "We have seen that numpy arrays are processed by compiled code with SIMD. \n",
    "\n",
    "For this to work, the elements in a numpy array must be: \n",
    "\n",
    "* of a basic type, e.g. integers or floats. The full range of possibilities is given on [this page](https://docs.scipy.org/doc/numpy/reference/arrays.dtypes.html);\n",
    "* of the same type, so that they have the same size, e.g. 64 bits floats, or 16 bits integers. \n",
    "\n",
    "On the contrary, python lists can contain heterogeneous objects of any type. \n",
    "\n",
    "Here are a few ways to create numpy arrays."
   ]
  },
  {
   "cell_type": "code",
   "execution_count": 36,
   "metadata": {},
   "outputs": [
    {
     "name": "stdout",
     "output_type": "stream",
     "text": [
      "int64\n",
      "float64\n",
      "int64\n",
      "int8\n"
     ]
    }
   ],
   "source": [
    "from sys import getsizeof as sizeof\n",
    "\n",
    "# numpy guesses that it should use integers\n",
    "x = np.array([0, 1, 2])\n",
    "print(x.dtype)\n",
    "# or floats: \n",
    "x = np.array([0., 1., 2.])\n",
    "print(x.dtype)\n",
    "# here we specify a python compatible type,\n",
    "# interpreted by numpy as int64\n",
    "x = np.array([0., 1., 2.], dtype=int)\n",
    "print(x.dtype)\n",
    "# here we specify that we want 8 bits integers\n",
    "x = np.array([0, 1, 2], dtype=np.int8)\n",
    "print(x.dtype)"
   ]
  },
  {
   "cell_type": "markdown",
   "metadata": {},
   "source": [
    "This makes it easy to estimate the size of a numpy array in memory, to see if you're going to blow up your computer before you actually do. \n",
    "\n",
    "---\n",
    "\n",
    "*Exercise*\n",
    "\n",
    "For example, let's consider a sample of 10 000 images, each with 1000x2000 pixels, and 3 color channels per pixel. \n",
    "The color index ranges from 0 to 255, and can thus be encoded as an 8 bit integer. \n",
    "\n",
    "Assuming you store the data of all images in a single numpy array, what would be its size in memory in GB? \n",
    "\n",
    "--- "
   ]
  },
  {
   "cell_type": "markdown",
   "metadata": {},
   "source": [
    "## Numpy array shape\n",
    "\n"
   ]
  },
  {
   "cell_type": "markdown",
   "metadata": {},
   "source": [
    "## Numpy element wise operations\n",
    "\n",
    "I call element wise operations all the operations that affect the array elements, but preserve the array shape.\n",
    "\n",
    "All the usual operators are implemented in numpy, for arrays. For example: "
   ]
  },
  {
   "cell_type": "code",
   "execution_count": null,
   "metadata": {},
   "outputs": [],
   "source": []
  }
 ],
 "metadata": {
  "kernelspec": {
   "display_name": "Python 3",
   "language": "python",
   "name": "python3"
  },
  "language_info": {
   "codemirror_mode": {
    "name": "ipython",
    "version": 3
   },
   "file_extension": ".py",
   "mimetype": "text/x-python",
   "name": "python",
   "nbconvert_exporter": "python",
   "pygments_lexer": "ipython3",
   "version": "3.7.6"
  }
 },
 "nbformat": 4,
 "nbformat_minor": 4
}
