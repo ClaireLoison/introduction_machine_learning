{
 "cells": [
  {
   "cell_type": "markdown",
   "metadata": {},
   "source": [
    "At the moment, python is ruling the fields of data science and machine learning, after a long period of domination by R. So we think that you need to know this language to be able to use machine learning efficiently. \n",
    "\n",
    "But what if you've never used python? \n",
    "\n",
    "In this tutorial, we'll assume you're not a professional software developer, and we'll give you the basics that are necessary for machine learning. \n",
    "\n",
    "We hope that we'll give you a starting point and the motivation to learn more about this wonderful language. We can assure you that you won't regret it. \n",
    "\n",
    "Here's the outline: \n"
   ]
  },
  {
   "cell_type": "markdown",
   "metadata": {},
   "source": [
    "* [Getting help](#Getting-help)\n",
    "* [variables and objects](#Variables-and-objects)\n",
    "* [Conditions](#Conditions)\n",
    "* [About code indentation](#About-code-indentation)\n",
    "* [Loops](#Loops)\n",
    "* [Basic input and output](#Basic-input-and-output)\n",
    "* [Functions](#Functions)\n",
    "* [Python data structures:](#Python-data-structures)\n",
    "  * lists\n",
    "  * tuples \n",
    "  * dictionaries \n",
    "  * lists or dictionaries?   \n",
    "* [The zen of python](#The-zen-of-python)\n",
    "  "
   ]
  },
  {
   "cell_type": "markdown",
   "metadata": {},
   "source": [
    "## Getting help\n",
    "\n",
    "It's impossible to cover the entirety of python in this short course, and there are many subjects that won't be covered. For example, we will explain you what is a list, but will not explain you how to sort a list. \n",
    "\n",
    "And, after a few days, you will probably have forgotten some of the concepts or specific commands explained here. \n",
    "That's completely normal, and not a problem. Don't worry about this! \n",
    "\n",
    "But it's essential for you to know how to find more information about python when you need it. \n",
    "\n",
    "The python community is extremely large, so the fastest source of information is Google. If you just type **python doc sort list** on Google, you'll get your answer in a couple seconds. \n",
    "\n",
    "Generally speaking, the [python documentation](https://docs.python.org/3.8/) is extremely good, so make sure to use it. \n",
    "\n",
    "And if you want to dig further after this crash course, you could start with the [python tutorial](https://docs.python.org/3.8/tutorial/index.html). It will take you a day or so, but it's definitely worth it. \n",
    "\n"
   ]
  },
  {
   "cell_type": "markdown",
   "metadata": {},
   "source": [
    "## Variables and objects\n",
    "\n",
    "You've probably heard about about object-oriented programming, and it might sound complicated to you. \n",
    "\n",
    "Don't worry, we're not going to do any object-oriented programming in this course. But we'll use objects all the time, because in python, everything is an object. An integer, a string, a list of values, and even a function: all of these things are objects. \n",
    "\n",
    "Let's start by looking at an integer. With the `id` built-in function, we can get the unique identifier associated with this integer object: \n"
   ]
  },
  {
   "cell_type": "code",
   "execution_count": 5,
   "metadata": {},
   "outputs": [
    {
     "data": {
      "text/plain": [
       "4561220736"
      ]
     },
     "execution_count": 5,
     "metadata": {},
     "output_type": "execute_result"
    }
   ],
   "source": [
    "id(1)"
   ]
  },
  {
   "cell_type": "markdown",
   "metadata": {},
   "source": [
    "And with the `type` function, we can get the type of the object: "
   ]
  },
  {
   "cell_type": "code",
   "execution_count": 6,
   "metadata": {},
   "outputs": [
    {
     "data": {
      "text/plain": [
       "int"
      ]
     },
     "execution_count": 6,
     "metadata": {},
     "output_type": "execute_result"
    }
   ],
   "source": [
    "type(1)"
   ]
  },
  {
   "cell_type": "markdown",
   "metadata": {},
   "source": [
    "Now let's define a variable `a`, set it to 1, and print it: "
   ]
  },
  {
   "cell_type": "code",
   "execution_count": 7,
   "metadata": {},
   "outputs": [
    {
     "name": "stdout",
     "output_type": "stream",
     "text": [
      "1\n"
     ]
    }
   ],
   "source": [
    "a = 1\n",
    "print(a)"
   ]
  },
  {
   "cell_type": "markdown",
   "metadata": {},
   "source": [
    "In the notebook, as we have done before, calling print is not always necessary to print the value of an object. At the end of a cell, it's enough to evaluate the object like this: "
   ]
  },
  {
   "cell_type": "code",
   "execution_count": 8,
   "metadata": {},
   "outputs": [
    {
     "data": {
      "text/plain": [
       "1"
      ]
     },
     "execution_count": 8,
     "metadata": {},
     "output_type": "execute_result"
    }
   ],
   "source": [
    "b = 2\n",
    "b\n",
    "a"
   ]
  },
  {
   "cell_type": "markdown",
   "metadata": {},
   "source": [
    "But in a python script, or if you're not at the end of a cell in the notebook, you will need to use `print`. \n",
    "\n",
    "You might have noticed a big difference with respect to other languages, when we defined variable `a`: We didn't have to declare the type of the variable. In C++, for example, you would do `int a = 1;`\n",
    "\n",
    "In python, the type of a variable is inferred from the type of the object that is assigned to the variable, here an integer. So `a` is of type `int`: "
   ]
  },
  {
   "cell_type": "code",
   "execution_count": 9,
   "metadata": {},
   "outputs": [
    {
     "data": {
      "text/plain": [
       "int"
      ]
     },
     "execution_count": 9,
     "metadata": {},
     "output_type": "execute_result"
    }
   ],
   "source": [
    "type(a)"
   ]
  },
  {
   "cell_type": "markdown",
   "metadata": {},
   "source": [
    "Now let's check the unique identifier of a: "
   ]
  },
  {
   "cell_type": "code",
   "execution_count": 10,
   "metadata": {},
   "outputs": [
    {
     "data": {
      "text/plain": [
       "4561220736"
      ]
     },
     "execution_count": 10,
     "metadata": {},
     "output_type": "execute_result"
    }
   ],
   "source": [
    "id(a)"
   ]
  },
  {
   "cell_type": "markdown",
   "metadata": {},
   "source": [
    "That's the identifier of 1! And it's because `a` and `1` correspond to the exact same object in memory. \n",
    "\n",
    "----\n",
    "\n",
    "*Exercise:*\n",
    "\n",
    "Consider this code:\n",
    "\n",
    "```\n",
    "b = 1 \n",
    "c = b\n",
    "```\n",
    "\n",
    "Can you guess what the ids of `b` and `c` will be? \n",
    "Check your hypothesis in the cell below:"
   ]
  },
  {
   "cell_type": "code",
   "execution_count": 11,
   "metadata": {},
   "outputs": [],
   "source": [
    "# paste the code above, and execute the cell with shift+enter"
   ]
  },
  {
   "cell_type": "markdown",
   "metadata": {},
   "source": [
    "----"
   ]
  },
  {
   "cell_type": "markdown",
   "metadata": {},
   "source": [
    "**Important:**\n",
    "\n",
    "In python, variables are called \"names\". And the process of assigning a value to a variable is called \"name binding\". In other words, you can see a variable as a label that is attached to an object. \n",
    "\n",
    "When we do `a=1`, we attach label `a` to integer `1`. If you attach another label to `1`, the same object now carries two labels. When we do the following, we just move label `a` from `1` to `2`:"
   ]
  },
  {
   "cell_type": "code",
   "execution_count": 12,
   "metadata": {},
   "outputs": [],
   "source": [
    "a = 1 \n",
    "a = 2"
   ]
  },
  {
   "cell_type": "markdown",
   "metadata": {},
   "source": [
    "**This might sound obvious, but please remember this, as it can lead to many misunderstandings, as we will later, in the section about loops.**  "
   ]
  },
  {
   "cell_type": "markdown",
   "metadata": {},
   "source": [
    "## Conditions\n",
    "\n",
    "Very often, you'll need to take decisions in your programs, depending on the current situation. Here's an example. Execute the following cell by selecting it and pressing shift+Enter. "
   ]
  },
  {
   "cell_type": "code",
   "execution_count": 13,
   "metadata": {},
   "outputs": [
    {
     "name": "stdout",
     "output_type": "stream",
     "text": [
      "hello_world\n"
     ]
    }
   ],
   "source": [
    "do_great_the_world = True\n",
    "if do_great_the_world: \n",
    "    print('hello_world')\n",
    "else: \n",
    "    print('get lost')"
   ]
  },
  {
   "cell_type": "markdown",
   "metadata": {},
   "source": [
    "Now turn `do_great_the_world` to `False`, and re-execute the cell. That's it, you know how to do conditional execution. "
   ]
  },
  {
   "cell_type": "markdown",
   "metadata": {},
   "source": [
    "## About code indentation\n",
    "\n",
    "In python, indentations are important, and are not only here to make the code readable and pretty. When you indent the code (just use tab for that), you specify that you are creating a nested context. For example, in the code above, the line `print('hello_world')` is \"under' the if condition, and will be executed only if `do_great_the_world` is true. \n",
    "\n",
    "In most other languages, however, contexts are surrounded by separators, like '{}' in C++. People coming from these other languages often do not like to be forced to indent. But if you get going with python, you will realize that: \n",
    "\n",
    "* no separators means faster and easier typing\n",
    "* if people don't indent, the code won't work, so you won't have to waste time trying to review unindented code from other people anymore.\n",
    "* Text editors and especially IDEs make it very easy and natural to indent properly: often, the editor will indent automatically, and otherwise you just need to press tab (or shift+tab to back-indent). "
   ]
  },
  {
   "cell_type": "markdown",
   "metadata": {},
   "source": [
    "## Loops \n",
    "\n",
    "Loops make it possible to repeat an operation many times. That's typically what programs are for, so we need to learn how to do this. \n",
    "\n",
    "First, we need to define something that we can loop upon. And things that can be looped upon are called *iterables*. A *list* is an iterable, and here's one: \n",
    "\n"
   ]
  },
  {
   "cell_type": "code",
   "execution_count": 14,
   "metadata": {},
   "outputs": [
    {
     "name": "stdout",
     "output_type": "stream",
     "text": [
      "[1, 2, 3, 4]\n"
     ]
    }
   ],
   "source": [
    "a = [1, 2, 3, 4]\n",
    "print(a)"
   ]
  },
  {
   "cell_type": "markdown",
   "metadata": {},
   "source": [
    "Note how the print function adapts to the object being printed. You can try it on any kind of object, and you will usually get meaningful results. \n",
    "\n",
    "Now, let's write a loop to compute the squares of all values in the list, and to sum up those squares: "
   ]
  },
  {
   "cell_type": "code",
   "execution_count": 15,
   "metadata": {},
   "outputs": [
    {
     "name": "stdout",
     "output_type": "stream",
     "text": [
      "[1, 4, 9, 16]\n",
      "30\n"
     ]
    }
   ],
   "source": [
    "squares = []\n",
    "sumsq = 0\n",
    "for x in a: \n",
    "    x2 = x**2\n",
    "    squares.append(x2)\n",
    "    sumsq += x2\n",
    "print(squares)\n",
    "print(sumsq)"
   ]
  },
  {
   "cell_type": "markdown",
   "metadata": {},
   "source": [
    "What you know at this point about loops is probably enough in most programs, but we're going to have a look at a few syntactic shortcuts. \n",
    "\n",
    "You can loop in a very compact way by using *list comprehensions*: "
   ]
  },
  {
   "cell_type": "code",
   "execution_count": 16,
   "metadata": {},
   "outputs": [
    {
     "data": {
      "text/plain": [
       "[1, 4, 9, 16]"
      ]
     },
     "execution_count": 16,
     "metadata": {},
     "output_type": "execute_result"
    }
   ],
   "source": [
    "squares = [x**2 for x in a]\n",
    "squares"
   ]
  },
  {
   "cell_type": "markdown",
   "metadata": {},
   "source": [
    "That can be handy, and you will encounter this kind of constructs very often. But don't overuse it. Beginners often tend to use several list comprehensions to compute different values from the same iterable, for example: "
   ]
  },
  {
   "cell_type": "code",
   "execution_count": 17,
   "metadata": {},
   "outputs": [
    {
     "name": "stdout",
     "output_type": "stream",
     "text": [
      "[1, 4, 9, 16]\n",
      "[1, 8, 27, 64]\n"
     ]
    }
   ],
   "source": [
    "squares = [x**2 for x in a]\n",
    "cubes = [x**3 for x in a]\n",
    "print(squares)\n",
    "print(cubes)"
   ]
  },
  {
   "cell_type": "markdown",
   "metadata": {},
   "source": [
    "**But this is neither elegant nor efficient. If you need to compute several things from the same iterable, use a standard loop construct to save CPU time and look like a pro.**"
   ]
  },
  {
   "cell_type": "markdown",
   "metadata": {},
   "source": [
    "Often, you need to get the values from the iterable, and also the index at which the value is stored. For this, use `enumerate`: "
   ]
  },
  {
   "cell_type": "code",
   "execution_count": 18,
   "metadata": {},
   "outputs": [
    {
     "name": "stdout",
     "output_type": "stream",
     "text": [
      "0 1\n",
      "1 2\n",
      "2 3\n",
      "3 4\n"
     ]
    }
   ],
   "source": [
    "for i, x in enumerate(a): \n",
    "    print(i, x)"
   ]
  },
  {
   "cell_type": "markdown",
   "metadata": {},
   "source": [
    "--- \n",
    "\n",
    "**Exercise**\n",
    "\n",
    "Let's come back to name binding in the context of loops. In the code below, we loop on a list, and try to add 1 to all elements in the list, but it does not work... do you understand why? "
   ]
  },
  {
   "cell_type": "code",
   "execution_count": 19,
   "metadata": {},
   "outputs": [
    {
     "name": "stdout",
     "output_type": "stream",
     "text": [
      "[0, 1, 2, 3, 4]\n",
      "[0, 1, 2, 3, 4]\n"
     ]
    }
   ],
   "source": [
    "lst = list(range(5))\n",
    "print(lst)\n",
    "for x in lst:\n",
    "    x = 1\n",
    "print(lst)"
   ]
  },
  {
   "cell_type": "markdown",
   "metadata": {},
   "source": [
    "---"
   ]
  },
  {
   "cell_type": "markdown",
   "metadata": {},
   "source": [
    "## Basic input and output\n",
    "\n",
    "For data science, and especially if the data starts getting large, we will use specific libraries to read data files, and you will see that later when you start using data science libraries such as `numpy` or `pandas`. \n",
    "\n",
    "Here, you will just learn how to read and write basic text files.\n",
    "\n",
    "Write to a text file by doing: "
   ]
  },
  {
   "cell_type": "code",
   "execution_count": 20,
   "metadata": {},
   "outputs": [],
   "source": [
    "a = [1, 2, 3, 4]\n",
    "fname = 'myfile.txt'\n",
    "# 'w' means that the file is opened in write mode\n",
    "with open(fname, 'w') as out_file: \n",
    "    for i in a: \n",
    "        # we convert our integers to strings, \n",
    "        # and we write one integer per line\n",
    "        # note that we need to add a newline \n",
    "        # character manually to the string,\n",
    "        # which just contains the number\n",
    "        out_file.write(str(i) + '\\n')"
   ]
  },
  {
   "cell_type": "markdown",
   "metadata": {},
   "source": [
    "You can check the contents of the file with a shell function (the `!` notifies the jupyter notebook that this is a shell function):"
   ]
  },
  {
   "cell_type": "code",
   "execution_count": 21,
   "metadata": {},
   "outputs": [
    {
     "name": "stdout",
     "output_type": "stream",
     "text": [
      "1\r\n",
      "2\r\n",
      "3\r\n",
      "4\r\n"
     ]
    }
   ],
   "source": [
    "! cat myfile.txt"
   ]
  },
  {
   "cell_type": "markdown",
   "metadata": {},
   "source": [
    "And now you can read the file back: "
   ]
  },
  {
   "cell_type": "code",
   "execution_count": 22,
   "metadata": {},
   "outputs": [
    {
     "name": "stdout",
     "output_type": "stream",
     "text": [
      "1\n",
      "2\n",
      "3\n",
      "4\n"
     ]
    }
   ],
   "source": [
    "with open(fname) as in_file: \n",
    "    for line in in_file: \n",
    "        # we remove the trailing '\\n':\n",
    "        line = line.strip()\n",
    "        print(line)"
   ]
  },
  {
   "cell_type": "markdown",
   "metadata": {},
   "source": [
    "In both the writing and reading case, we have used the `with` statement. This statement makes sure that the file is live only within the context of the `with`. When the program goes out of the context, the file is closed automatically. \n",
    "\n",
    "It's important to make sure that files are closed when they're not needed anymore, so: \n",
    "\n",
    "**Always use the with statement to open files!**"
   ]
  },
  {
   "cell_type": "markdown",
   "metadata": {},
   "source": [
    "## Functions\n",
    "\n",
    "Here is a basic function, that does not take any argument (it has no parameters): "
   ]
  },
  {
   "cell_type": "code",
   "execution_count": 23,
   "metadata": {},
   "outputs": [
    {
     "name": "stdout",
     "output_type": "stream",
     "text": [
      "hello world!\n"
     ]
    }
   ],
   "source": [
    "def say_hello():\n",
    "    print('hello world!')\n",
    "    \n",
    "say_hello()"
   ]
  },
  {
   "cell_type": "markdown",
   "metadata": {},
   "source": [
    "To add parameters, just specify them in the function definition: "
   ]
  },
  {
   "cell_type": "code",
   "execution_count": 24,
   "metadata": {},
   "outputs": [
    {
     "name": "stdout",
     "output_type": "stream",
     "text": [
      "hello world\n",
      "hello colin\n"
     ]
    }
   ],
   "source": [
    "def say_hello(somebody):\n",
    "    print('hello {}'.format(somebody))\n",
    "    \n",
    "say_hello('world')\n",
    "say_hello('colin')"
   ]
  },
  {
   "cell_type": "markdown",
   "metadata": {},
   "source": [
    "You can add any parameter you need, separating them with commas: "
   ]
  },
  {
   "cell_type": "code",
   "execution_count": 25,
   "metadata": {},
   "outputs": [
    {
     "name": "stdout",
     "output_type": "stream",
     "text": [
      "hello asterix and obelix\n"
     ]
    }
   ],
   "source": [
    "def say_hello(a, b): \n",
    "    all_people = ' and '.join([a, b])\n",
    "    print('hello {}'.format(all_people))\n",
    "    \n",
    "say_hello('asterix', 'obelix')"
   ]
  },
  {
   "cell_type": "markdown",
   "metadata": {},
   "source": [
    "Functions also can return objects. Often a single object (maybe a list), or a tuple of objects. To do this, use the return statement: "
   ]
  },
  {
   "cell_type": "code",
   "execution_count": 26,
   "metadata": {},
   "outputs": [
    {
     "data": {
      "text/plain": [
       "4"
      ]
     },
     "execution_count": 26,
     "metadata": {},
     "output_type": "execute_result"
    }
   ],
   "source": [
    "def square(x):\n",
    "    return x**2\n",
    "\n",
    "square(2)"
   ]
  },
  {
   "cell_type": "code",
   "execution_count": 27,
   "metadata": {},
   "outputs": [
    {
     "data": {
      "text/plain": [
       "(0.3257339137707528, 0.4697261999006147)"
      ]
     },
     "execution_count": 27,
     "metadata": {},
     "output_type": "execute_result"
    }
   ],
   "source": [
    "import random\n",
    "\n",
    "def random_point():\n",
    "    return random.random(), random.random()\n",
    "\n",
    "random_point()"
   ]
  },
  {
   "cell_type": "markdown",
   "metadata": {},
   "source": [
    "You can define default values for the arguments, like this: "
   ]
  },
  {
   "cell_type": "code",
   "execution_count": 28,
   "metadata": {},
   "outputs": [
    {
     "name": "stdout",
     "output_type": "stream",
     "text": [
      "hello colin\n",
      "hello world\n"
     ]
    }
   ],
   "source": [
    "def say_hello(a='world'):\n",
    "    print('hello {}'.format(a))\n",
    "\n",
    "say_hello('colin')\n",
    "say_hello()"
   ]
  },
  {
   "cell_type": "markdown",
   "metadata": {},
   "source": [
    "Finally, functions can either take unnamed positional arguments, or keyword arguments. Named arguments must be provided after all positional arguments. For example:"
   ]
  },
  {
   "cell_type": "code",
   "execution_count": 29,
   "metadata": {},
   "outputs": [
    {
     "name": "stdout",
     "output_type": "stream",
     "text": [
      "hi laurel and colin\n"
     ]
    }
   ],
   "source": [
    "def say_hello(greeting, person='laurel', another_person='hardy'):\n",
    "    print('{greeting} {person} and {another}'.format(\n",
    "        greeting=greeting,\n",
    "        person=person,\n",
    "        another=another_person\n",
    "        )\n",
    "    )\n",
    "    \n",
    "say_hello('hi', another_person='colin')"
   ]
  },
  {
   "cell_type": "markdown",
   "metadata": {},
   "source": [
    "In this example, `hi` is a positional argument, and person is a keyword argument. Of course, positional arguments are to be given in the right order! Keyword arguments are interesting because they make it obvious from outside the function what the argument is for. They also allow to specify only some of the arguments that have a default value. "
   ]
  },
  {
   "cell_type": "markdown",
   "metadata": {},
   "source": [
    "## Python data structures"
   ]
  },
  {
   "cell_type": "markdown",
   "metadata": {},
   "source": [
    "### Lists \n",
    "\n",
    "The most widely used data structure in python is certainly the list. \n",
    "\n",
    "In the following example, we illustrate a few very common list operations: "
   ]
  },
  {
   "cell_type": "code",
   "execution_count": 30,
   "metadata": {},
   "outputs": [
    {
     "name": "stdout",
     "output_type": "stream",
     "text": [
      "data size 7\n",
      "a\n",
      "0\n",
      "1\n",
      "b\n",
      "c\n",
      "2\n",
      "3\n"
     ]
    }
   ],
   "source": [
    "# create the list, using square brackets\n",
    "data = ['a', 0, 1, 'b']\n",
    "# append a single element at the end\n",
    "data.append('c')\n",
    "# extend the list with the contents of another list \n",
    "data.extend([2, 3])\n",
    "# print the list length\n",
    "print('data size', len(data))\n",
    "# iterate on the list\n",
    "for elem in data: \n",
    "    print(elem)"
   ]
  },
  {
   "cell_type": "markdown",
   "metadata": {},
   "source": [
    "### Tuples\n",
    "\n",
    "Tuples are very similar to lists. The difference between the two is that lists are **mutable**, while tuples are **immutable**. This means that we can change a list (as we have done when we added elements to our `data` list above), but we can't change a tuple. \n",
    "\n",
    "In the following example, we create a tuple, print it, and try to add elements to the tuple: "
   ]
  },
  {
   "cell_type": "code",
   "execution_count": 31,
   "metadata": {},
   "outputs": [
    {
     "name": "stdout",
     "output_type": "stream",
     "text": [
      "length: 2 elements: (0, 1)\n"
     ]
    },
    {
     "ename": "AttributeError",
     "evalue": "'tuple' object has no attribute 'append'",
     "output_type": "error",
     "traceback": [
      "\u001b[0;31m---------------------------------------------------------------------------\u001b[0m",
      "\u001b[0;31mAttributeError\u001b[0m                            Traceback (most recent call last)",
      "\u001b[0;32m<ipython-input-31-c72b34954c76>\u001b[0m in \u001b[0;36m<module>\u001b[0;34m\u001b[0m\n\u001b[1;32m      2\u001b[0m \u001b[0mtup\u001b[0m \u001b[0;34m=\u001b[0m \u001b[0;34m(\u001b[0m\u001b[0;36m0\u001b[0m\u001b[0;34m,\u001b[0m \u001b[0;36m1\u001b[0m\u001b[0;34m)\u001b[0m\u001b[0;34m\u001b[0m\u001b[0;34m\u001b[0m\u001b[0m\n\u001b[1;32m      3\u001b[0m \u001b[0mprint\u001b[0m\u001b[0;34m(\u001b[0m\u001b[0;34m'length:'\u001b[0m\u001b[0;34m,\u001b[0m \u001b[0mlen\u001b[0m\u001b[0;34m(\u001b[0m\u001b[0mtup\u001b[0m\u001b[0;34m)\u001b[0m\u001b[0;34m,\u001b[0m \u001b[0;34m'elements:'\u001b[0m\u001b[0;34m,\u001b[0m \u001b[0mtup\u001b[0m\u001b[0;34m)\u001b[0m\u001b[0;34m\u001b[0m\u001b[0;34m\u001b[0m\u001b[0m\n\u001b[0;32m----> 4\u001b[0;31m \u001b[0mtup\u001b[0m\u001b[0;34m.\u001b[0m\u001b[0mappend\u001b[0m\u001b[0;34m(\u001b[0m\u001b[0;36m2\u001b[0m\u001b[0;34m)\u001b[0m\u001b[0;34m\u001b[0m\u001b[0;34m\u001b[0m\u001b[0m\n\u001b[0m",
      "\u001b[0;31mAttributeError\u001b[0m: 'tuple' object has no attribute 'append'"
     ]
    }
   ],
   "source": [
    "# create a tuple, using parentheses\n",
    "tup = (0, 1)\n",
    "print('length:', len(tup), 'elements:', tup)\n",
    "tup.append(2)"
   ]
  },
  {
   "cell_type": "markdown",
   "metadata": {},
   "source": [
    "Of course, this fails because the tuple is immutable. This might seem like a big drawback of tuples. But it's not! We're not going to enter a long debate about why this is the case, and only give you one recommendation: \n",
    "\n",
    "**if you need to define a sequence that shouldn't or won't be modified, use a tuple.**\n",
    "\n",
    "This will make it easier for you to debug your code, and make it more memory efficient. \n",
    "\n",
    "Finally, a word about tuple assignment. It's possible to create a tuple by **packing** values as we have done above. And actually we can omit the parentheses: "
   ]
  },
  {
   "cell_type": "code",
   "execution_count": null,
   "metadata": {},
   "outputs": [],
   "source": [
    "tup = 0, 1\n",
    "tup"
   ]
  },
  {
   "cell_type": "markdown",
   "metadata": {},
   "source": [
    "And we can also **unpack**: "
   ]
  },
  {
   "cell_type": "code",
   "execution_count": null,
   "metadata": {},
   "outputs": [],
   "source": [
    "x, y = tup\n",
    "print(x, y)"
   ]
  },
  {
   "cell_type": "markdown",
   "metadata": {},
   "source": [
    "Doing packing and unpacking at the same time, we can **initialize several variables in one command**:"
   ]
  },
  {
   "cell_type": "code",
   "execution_count": null,
   "metadata": {},
   "outputs": [],
   "source": [
    "x, y = 0, 1\n",
    "print(x, y)"
   ]
  },
  {
   "cell_type": "markdown",
   "metadata": {},
   "source": [
    "### Dictionaries \n",
    "\n",
    "Dictionaries are very different from lists and tuples. They are **mutable**, **mapping** data structures. This means that dictionaries contain elements that are made of a **key** mapping to a **value**, and that we can modify existing dictionaries. Here's your first one: \n"
   ]
  },
  {
   "cell_type": "code",
   "execution_count": null,
   "metadata": {},
   "outputs": [],
   "source": [
    "data = {\n",
    "    'x': 1,\n",
    "    'y': 2\n",
    "}\n",
    "\n",
    "data"
   ]
  },
  {
   "cell_type": "markdown",
   "metadata": {},
   "source": [
    "One can add items (or change the value of existing keys!) like this: "
   ]
  },
  {
   "cell_type": "code",
   "execution_count": null,
   "metadata": {},
   "outputs": [],
   "source": [
    "data['x'] = 0\n",
    "data['z'] = 3\n",
    "data"
   ]
  },
  {
   "cell_type": "markdown",
   "metadata": {},
   "source": [
    "And we can access the value of a key like this: "
   ]
  },
  {
   "cell_type": "code",
   "execution_count": null,
   "metadata": {},
   "outputs": [],
   "source": [
    "data['x']"
   ]
  },
  {
   "cell_type": "markdown",
   "metadata": {},
   "source": [
    "Python programmers often use dictionaries (or lists of dictionaries) to keep track of information. For example, for a phone book: "
   ]
  },
  {
   "cell_type": "code",
   "execution_count": null,
   "metadata": {},
   "outputs": [],
   "source": [
    "[\n",
    "    {'first_name':'john',\n",
    "     'last_name':'smith',\n",
    "     'phone': 1234567 \n",
    "    },\n",
    "    {'first_name':'john',\n",
    "     'last_name':'goodman',\n",
    "     'phone': 7654321    \n",
    "    },\n",
    "    {'first_name':'will',\n",
    "     'last_name':'smith',\n",
    "     'phone': 1234851,     \n",
    "    } \n",
    "]"
   ]
  },
  {
   "cell_type": "markdown",
   "metadata": {},
   "source": [
    "### List or dictionary? "
   ]
  },
  {
   "cell_type": "markdown",
   "metadata": {},
   "source": [
    "At first, deciding which container to use might not be easy. So keep in mind the following facts: \n",
    "\n",
    "**Lists:**\n",
    "\n",
    "* sequential, meaning that the elements are arranged in a given order;\n",
    "* can be sorted;\n",
    "* provide very fast access to an element when its index is known, with O(1) complexity\n",
    "* checking whether an item is in a list is of complexity O(n), so the time needed scales linearly with the number of elements in the list\n",
    "\n",
    "**Dictionaries:**\n",
    "\n",
    "* provide very fast access to an element when its key is known, with O(1) complexity\n",
    "* checking whether a key is in the dictionary is of complexity O(1).\n",
    "* for python < 3.6, dictionaries are inherently unsorted. For python 3.6, the order of element insertion is preserved in *some* implementations of python. For python >= 3.7, the insertion order is always preserved. \n",
    "---\n",
    "\n",
    "*Exercise*\n",
    "\n",
    "In the following cases, would you use a list, a dictionary, a list of tuples? If you use a list, which elements would you store? If you use a dictionary, which key and value would you store? \n",
    "\n",
    "* plotting (x,y) data points. In which data structure would you store your points before plotting? \n",
    "* a detector has 32 channels, and measures one value in each channel when the measurement is triggered. Which data structure would you use to store the measurements? \n",
    "* some channels are bad and need to be masked out. Where would you store the bad channels? \n",
    "* each value should be calibrated by a factor that depends on the channel. Where would you store the calibration factors? \n",
    "* consider the phone book given above. What would be the complexity for finding the information for a given person? How would you improve the phonebook to make the search very fast? \n",
    "\n",
    "---"
   ]
  },
  {
   "cell_type": "markdown",
   "metadata": {},
   "source": [
    "## The zen of python\n",
    "\n",
    "Python is an extremely flexible language. \n",
    "\n",
    "For instance, you can go for object-oriented or fully functional programming, or go for an hybrid approach. And if you decide to do object-oriented programming, for example, there are several ways to do so...\n",
    "\n",
    "In fact, when you need to do something with python, you will certainly find that the most difficult is to choose how to do it.  \n",
    "\n",
    "When in doubt, follow the Zen of Python ([PEP20](https://www.python.org/dev/peps/pep-0020/)):\n",
    "\n",
    "* Beautiful is better than ugly.\n",
    "* Explicit is better than implicit.\n",
    "* Simple is better than complex.\n",
    "* Complex is better than complicated.\n",
    "* Flat is better than nested.\n",
    "* Sparse is better than dense.\n",
    "* Readability counts.\n",
    "* Special cases aren't special enough to break the rules.\n",
    "* Although practicality beats purity.\n",
    "* Errors should never pass silently.\n",
    "* Unless explicitly silenced.\n",
    "* In the face of ambiguity, refuse the temptation to guess.\n",
    "* There should be one-- and preferably only one --obvious way to do it.\n",
    "* Although that way may not be obvious at first unless you're Dutch.\n",
    "* Now is better than never.\n",
    "* Although never is often better than *right* now.\n",
    "* If the implementation is hard to explain, it's a bad idea.\n",
    "* If the implementation is easy to explain, it may be a good idea.\n",
    "* Namespaces are one honking great idea -- let's do more of those!\n",
    "\n",
    "And as style goes, follow [PEP8!](https://www.python.org/dev/peps/pep-0008/). "
   ]
  }
 ],
 "metadata": {
  "kernelspec": {
   "display_name": "Python 3",
   "language": "python",
   "name": "python3"
  },
  "language_info": {
   "codemirror_mode": {
    "name": "ipython",
    "version": 3
   },
   "file_extension": ".py",
   "mimetype": "text/x-python",
   "name": "python",
   "nbconvert_exporter": "python",
   "pygments_lexer": "ipython3",
   "version": "3.7.6"
  }
 },
 "nbformat": 4,
 "nbformat_minor": 4
}
