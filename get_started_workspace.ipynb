{
 "cells": [
  {
   "cell_type": "markdown",
   "metadata": {},
   "source": [
    "# A Python Crash Course for Machine Learning \n",
    "\n",
    "At the moment, python is ruling the fields of data science and machine learning, after a long period of domination by R. So we think that you need to know this language to be able to use machine learning efficiently.\n",
    "\n",
    "But what if you've never used python?\n",
    "\n",
    "In this tutorial, we'll assume you're not a professional software developer, and we'll give you the basics that are necessary for machine learning.\n",
    "\n",
    "We hope that we'll give you a starting point and the motivation to learn more about this wonderful language. We can assure you that you won't regret it.\n",
    "\n",
    "* [Python Basics](notebooks/02_python_crash_course_for_machine_learning.ipynb) (1h)\n",
    "   * Learn the minimum needed about python for machine learning: loops, data structures, etc.\n",
    "* [Introduction to Numpy](notebooks/03_numpy_for_machine_learning.ipynb) (1h)\n",
    "   * Numpy provides efficient data array manipulation and it at the core of scientific python, including machine learning. \n",
    "* [First plots with matplotlib](notebooks/04_plotting_for_machine_learning.ipynb) (1h) \n",
    "   * Matplotlib is the oldest and most well known data visualization tool for python. Learn how to do your first plots, in a context of a toy machine learning problem. \n"
   ]
  }
 ],
 "metadata": {
  "kernelspec": {
   "display_name": "Python 3",
   "language": "python",
   "name": "python3"
  },
  "language_info": {
   "codemirror_mode": {
    "name": "ipython",
    "version": 3
   },
   "file_extension": ".py",
   "mimetype": "text/x-python",
   "name": "python",
   "nbconvert_exporter": "python",
   "pygments_lexer": "ipython3",
   "version": "3.7.6"
  }
 },
 "nbformat": 4,
 "nbformat_minor": 4
}
